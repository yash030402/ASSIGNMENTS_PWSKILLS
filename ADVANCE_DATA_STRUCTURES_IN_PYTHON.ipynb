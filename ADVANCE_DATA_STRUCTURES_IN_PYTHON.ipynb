{
  "nbformat": 4,
  "nbformat_minor": 0,
  "metadata": {
    "colab": {
      "provenance": []
    },
    "kernelspec": {
      "name": "python3",
      "display_name": "Python 3"
    },
    "language_info": {
      "name": "python"
    }
  },
  "cells": [
    {
      "cell_type": "markdown",
      "source": [
        "ASSIGNMENT : ADVANCE DATA STRUCTURES IN PYTHON"
      ],
      "metadata": {
        "id": "y49dbFrn1Mcs"
      }
    },
    {
      "cell_type": "markdown",
      "source": [
        "Q1 Write a code to reverse a string ?"
      ],
      "metadata": {
        "id": "kl8c3LFA1lJ8"
      }
    },
    {
      "cell_type": "code",
      "source": [
        "y = \"yash shakdwipee\""
      ],
      "metadata": {
        "id": "1te_uT4c1qLv"
      },
      "execution_count": null,
      "outputs": []
    },
    {
      "cell_type": "code",
      "source": [
        "type(y)"
      ],
      "metadata": {
        "colab": {
          "base_uri": "https://localhost:8080/"
        },
        "id": "CxY3b4-qfy9z",
        "outputId": "f95e1276-5d3e-4f61-c2fb-cca2a56d3130"
      },
      "execution_count": null,
      "outputs": [
        {
          "output_type": "execute_result",
          "data": {
            "text/plain": [
              "str"
            ]
          },
          "metadata": {},
          "execution_count": 3
        }
      ]
    },
    {
      "cell_type": "code",
      "source": [
        "y[::-1]"
      ],
      "metadata": {
        "colab": {
          "base_uri": "https://localhost:8080/",
          "height": 36
        },
        "id": "N5qA8_BK1t0p",
        "outputId": "460159a4-b75b-4ba3-f32a-eb40ca957951"
      },
      "execution_count": null,
      "outputs": [
        {
          "output_type": "execute_result",
          "data": {
            "text/plain": [
              "'eepiwdkahs hsay'"
            ],
            "application/vnd.google.colaboratory.intrinsic+json": {
              "type": "string"
            }
          },
          "metadata": {},
          "execution_count": 5
        }
      ]
    },
    {
      "cell_type": "code",
      "source": [
        "n =\"yash naresh lucky kunal\"\n"
      ],
      "metadata": {
        "id": "EE9JKx9838IY"
      },
      "execution_count": null,
      "outputs": []
    },
    {
      "cell_type": "code",
      "source": [
        "type(n)"
      ],
      "metadata": {
        "colab": {
          "base_uri": "https://localhost:8080/"
        },
        "id": "T7EkowcZQxik",
        "outputId": "7575c819-b18f-420c-9513-91a141dc5e95"
      },
      "execution_count": null,
      "outputs": [
        {
          "output_type": "execute_result",
          "data": {
            "text/plain": [
              "str"
            ]
          },
          "metadata": {},
          "execution_count": 4
        }
      ]
    },
    {
      "cell_type": "code",
      "source": [
        "n[::-1]"
      ],
      "metadata": {
        "colab": {
          "base_uri": "https://localhost:8080/",
          "height": 36
        },
        "id": "xXIHWWglRBwr",
        "outputId": "8809c7bd-390b-4e7e-fc79-58f8a1658b00"
      },
      "execution_count": null,
      "outputs": [
        {
          "output_type": "execute_result",
          "data": {
            "text/plain": [
              "'lanuk ykcul hseran hsay'"
            ],
            "application/vnd.google.colaboratory.intrinsic+json": {
              "type": "string"
            }
          },
          "metadata": {},
          "execution_count": 5
        }
      ]
    },
    {
      "cell_type": "code",
      "source": [
        "#as provided in the above examples, we can easily reverse a string by using the syntax[::-1]"
      ],
      "metadata": {
        "id": "XGiXiIVdROJZ"
      },
      "execution_count": null,
      "outputs": []
    },
    {
      "cell_type": "markdown",
      "source": [
        "Q2  Write a code to count the number of vowels in a string ?"
      ],
      "metadata": {
        "id": "vVHr_MIbRwiI"
      }
    },
    {
      "cell_type": "code",
      "source": [
        "def count_vowels(string):\n",
        "    vowels = 'aeiouAEIOU'\n",
        "    count = 0\n",
        "    for char in string:\n",
        "        if char in vowels:\n",
        "            count += 1\n",
        "    return count"
      ],
      "metadata": {
        "id": "oGbBtfb1S_t8"
      },
      "execution_count": null,
      "outputs": []
    },
    {
      "cell_type": "code",
      "source": [
        "count_vowels(\"yashshakdwipee\")"
      ],
      "metadata": {
        "colab": {
          "base_uri": "https://localhost:8080/"
        },
        "id": "oV5S8jj6TNbh",
        "outputId": "7cc5d0b9-c6a3-4cf4-dd3a-adecc04d2b31"
      },
      "execution_count": null,
      "outputs": [
        {
          "output_type": "execute_result",
          "data": {
            "text/plain": [
              "5"
            ]
          },
          "metadata": {},
          "execution_count": 14
        }
      ]
    },
    {
      "cell_type": "code",
      "source": [
        "count_vowels(\"yash shakdwipee loves to play cricket\")"
      ],
      "metadata": {
        "colab": {
          "base_uri": "https://localhost:8080/"
        },
        "id": "hyDe5jhIUChp",
        "outputId": "5c09f1d7-a17c-470a-86d9-ba4f91f09600"
      },
      "execution_count": null,
      "outputs": [
        {
          "output_type": "execute_result",
          "data": {
            "text/plain": [
              "11"
            ]
          },
          "metadata": {},
          "execution_count": 24
        }
      ]
    },
    {
      "cell_type": "code",
      "source": [
        "count_vowels (\"TO REMAIN FIT ,we need to eat right AND DO EXERCISE\")"
      ],
      "metadata": {
        "colab": {
          "base_uri": "https://localhost:8080/"
        },
        "id": "vTZAW7d1UNRv",
        "outputId": "6b8ca458-bfd8-477d-990f-6eec7e5abdb7"
      },
      "execution_count": null,
      "outputs": [
        {
          "output_type": "execute_result",
          "data": {
            "text/plain": [
              "18"
            ]
          },
          "metadata": {},
          "execution_count": 25
        }
      ]
    },
    {
      "cell_type": "markdown",
      "source": [
        "Q3  Write a code to check if a given string is a palindrome or not ?"
      ],
      "metadata": {
        "id": "RPJIUjIQaXbM"
      }
    },
    {
      "cell_type": "code",
      "source": [
        "def is_palindrome(s):\n",
        "    # Remove spaces and convert to lowercase for a case-insensitive comparison\n",
        "    s = s.replace(\" \", \"\").lower()\n",
        "    # Check if the string is equal to its reverse\n",
        "    return s == s[::-1]"
      ],
      "metadata": {
        "id": "CLjUG2haa3Ns"
      },
      "execution_count": null,
      "outputs": []
    },
    {
      "cell_type": "code",
      "source": [
        "string = \"A man a plan a canal Panama\"\n",
        "if is_palindrome(string):\n",
        "    print(\"The string is a palindrome.\")\n",
        "else:\n",
        "    print(\"The string is not a palindrome.\")"
      ],
      "metadata": {
        "colab": {
          "base_uri": "https://localhost:8080/"
        },
        "id": "Rgp-T4NjbFwG",
        "outputId": "37b92b90-f04e-47d9-9156-d4e1e268cf52"
      },
      "execution_count": null,
      "outputs": [
        {
          "output_type": "stream",
          "name": "stdout",
          "text": [
            "The string is a palindrome.\n"
          ]
        }
      ]
    },
    {
      "cell_type": "code",
      "source": [
        "string = \"yash loves to play cricket\"\n",
        "if is_palindrome(string):\n",
        "    print(\"The string is a palindrome.\")\n",
        "else:\n",
        "    print(\"The string is not a palindrome.\")"
      ],
      "metadata": {
        "colab": {
          "base_uri": "https://localhost:8080/"
        },
        "id": "RIaDSrhkbaoz",
        "outputId": "85c93e9f-2dd0-4762-e4f4-24776979a68a"
      },
      "execution_count": null,
      "outputs": [
        {
          "output_type": "stream",
          "name": "stdout",
          "text": [
            "The string is not a palindrome.\n"
          ]
        }
      ]
    },
    {
      "cell_type": "code",
      "source": [
        "string =\"y\"\n",
        "if is_palindrome(string):\n",
        "    print(\"The string is a palindrome.\")\n",
        "else:\n",
        "    print(\"The string is not a palindrome.\")"
      ],
      "metadata": {
        "colab": {
          "base_uri": "https://localhost:8080/"
        },
        "id": "Ebatb73vdC4z",
        "outputId": "d36c2692-7c3b-4356-b5ed-06a736f969f6"
      },
      "execution_count": null,
      "outputs": [
        {
          "output_type": "stream",
          "name": "stdout",
          "text": [
            "The string is a palindrome.\n"
          ]
        }
      ]
    },
    {
      "cell_type": "code",
      "source": [
        "#We can follow the below steps to identify a palindrome:\n",
        "\n",
        "#Depending on the case sensitivity, either turn all the characters to lowercase or uppercase or keep them as it is.\n",
        "#Now, Compare the first and the last character. If they are the same move to the second and second last and so on.\n",
        "#If all the pairs of characters match, then it is a palindrome, otherwise not.\n",
        "#A palindrome string has a symmetric structure which means that the character in the first half of the string are the same as in the rear half but in reverse order.\n",
        "#Any string of length 1 is always a palindrome."
      ],
      "metadata": {
        "id": "6IFM9cYmb6Iy"
      },
      "execution_count": null,
      "outputs": []
    },
    {
      "cell_type": "markdown",
      "source": [
        "Q4  Write a code to check if two given strings are anagrams of each other ?"
      ],
      "metadata": {
        "id": "4fgJmpWVgILf"
      }
    },
    {
      "cell_type": "code",
      "source": [
        "def are_anagrams(str1, str2):\n",
        "    # Convert both strings to lowercase to make the check case-insensitive\n",
        "    str1 = str1.lower()\n",
        "    str2 = str2.lower()\n",
        "\n",
        "    # Sort the characters of both strings and compare\n",
        "    return sorted(str1) == sorted(str2)"
      ],
      "metadata": {
        "id": "I0lcuT0Qgb58"
      },
      "execution_count": null,
      "outputs": []
    },
    {
      "cell_type": "code",
      "source": [
        "str1 = \"Listen\"\n",
        "str2 = \"Silent\"\n",
        "if are_anagrams(str1, str2):\n",
        "    print(f'\"{str1}\" and \"{str2}\" are anagrams.')\n",
        "else:\n",
        "    print(f'\"{str1}\" and \"{str2}\" are not anagrams.')"
      ],
      "metadata": {
        "colab": {
          "base_uri": "https://localhost:8080/"
        },
        "id": "WKBdzZUngrwN",
        "outputId": "837007e4-3912-44ee-943e-24c16c565ab9"
      },
      "execution_count": null,
      "outputs": [
        {
          "output_type": "stream",
          "name": "stdout",
          "text": [
            "\"Listen\" and \"Silent\" are anagrams.\n"
          ]
        }
      ]
    },
    {
      "cell_type": "code",
      "source": [
        "str1 = \"YASH\"\n",
        "str2 = \"shakdwipee\"\n",
        "if are_anagrams(str1, str2):\n",
        "    print(f'\"{str1}\" and \"{str2}\" are anagrams.')\n",
        "else:\n",
        "    print(f'\"{str1}\" and \"{str2}\" are not anagrams.')"
      ],
      "metadata": {
        "colab": {
          "base_uri": "https://localhost:8080/"
        },
        "id": "Yg4V2iMBgxrM",
        "outputId": "d2c1b4e8-7a5a-40be-997b-b09037152af1"
      },
      "execution_count": null,
      "outputs": [
        {
          "output_type": "stream",
          "name": "stdout",
          "text": [
            "\"YASH\" and \"shakdwipee\" are not anagrams.\n"
          ]
        }
      ]
    },
    {
      "cell_type": "code",
      "source": [
        "#This code converts both strings to lowercase, sorts their characters, and then compares the sorted versions.\n",
        "# If they are identical, the strings are anagrams of each other."
      ],
      "metadata": {
        "id": "KDww3zgsg9KM"
      },
      "execution_count": null,
      "outputs": []
    },
    {
      "cell_type": "markdown",
      "source": [
        "Q5 Write a code to find all occurrences of a given substring within another string ?"
      ],
      "metadata": {
        "id": "F4qbX7WvhVu-"
      }
    },
    {
      "cell_type": "code",
      "source": [
        "def find_all_occurrences(main_string, sub_string):\n",
        "    start = 0\n",
        "    indices = []\n",
        "    while True:\n",
        "        start = main_string.find(sub_string, start)\n",
        "        if start == -1:\n",
        "            break\n",
        "        indices.append(start)\n",
        "        start += 1  # Move to the next character after the current match\n",
        "    return indices"
      ],
      "metadata": {
        "id": "3yK1NqmlharY"
      },
      "execution_count": null,
      "outputs": []
    },
    {
      "cell_type": "code",
      "source": [
        "main_string = \"GeeksforGeeks is best for Geeks\"\n",
        "sub_string = \"Geeks\"\n",
        "print(\"The start indices of the substrings are:\", find_all_occurrences(main_string, sub_string))"
      ],
      "metadata": {
        "colab": {
          "base_uri": "https://localhost:8080/"
        },
        "id": "jIL-OSLShrkq",
        "outputId": "80e0cfde-d741-447b-d637-4c77ff4a53dd"
      },
      "execution_count": null,
      "outputs": [
        {
          "output_type": "stream",
          "name": "stdout",
          "text": [
            "The start indices of the substrings are: [0, 8, 26]\n"
          ]
        }
      ]
    },
    {
      "cell_type": "code",
      "source": [
        "#in the above example ,the position of \"g\" indices are executed"
      ],
      "metadata": {
        "id": "Lj6qyIFxi-kW"
      },
      "execution_count": null,
      "outputs": []
    },
    {
      "cell_type": "code",
      "source": [
        "main_string = \"yash plays cricket, aswell as yash also plays football and yash is good at video games\"\n",
        "sub_string = \"yash\"\n",
        "print(\"The start indices of the substrings are:\", find_all_occurrences(main_string, sub_string))"
      ],
      "metadata": {
        "colab": {
          "base_uri": "https://localhost:8080/"
        },
        "id": "ZD0sez-Ehvp8",
        "outputId": "58529582-97ac-464f-90f8-f56aa821812c"
      },
      "execution_count": null,
      "outputs": [
        {
          "output_type": "stream",
          "name": "stdout",
          "text": [
            "The start indices of the substrings are: [0, 30, 59]\n"
          ]
        }
      ]
    },
    {
      "cell_type": "code",
      "source": [
        "#in the above example the positions of \"y\" indices are executed"
      ],
      "metadata": {
        "id": "eG-mTOhciXpT"
      },
      "execution_count": null,
      "outputs": []
    },
    {
      "cell_type": "markdown",
      "source": [
        "Q6 Write a code to perform basic string compression using the counts of repeated characters ?"
      ],
      "metadata": {
        "id": "Zx-2g7Jx1MRd"
      }
    },
    {
      "cell_type": "code",
      "source": [
        "def compress_string(s):\n",
        "    compressed = []\n",
        "    count = 1\n",
        "\n",
        "    for i in range(1, len(s)):\n",
        "        if s[i] == s[i - 1]:\n",
        "            count += 1\n",
        "        else:\n",
        "            compressed.append(s[i - 1] + str(count))\n",
        "            count = 1\n",
        "\n",
        "    compressed.append(s[-1] + str(count))\n",
        "    return ''.join(compressed)"
      ],
      "metadata": {
        "id": "ixFASoby1QJ5"
      },
      "execution_count": null,
      "outputs": []
    },
    {
      "cell_type": "code",
      "source": [
        "input_string = \"aabcccccaaa\"\n",
        "compressed_string = compress_string(input_string)\n",
        "print(compressed_string)"
      ],
      "metadata": {
        "colab": {
          "base_uri": "https://localhost:8080/"
        },
        "id": "L6ZQmHWn1bnq",
        "outputId": "14127a5a-6177-4e16-d88f-f41e26be8886"
      },
      "execution_count": null,
      "outputs": [
        {
          "output_type": "stream",
          "name": "stdout",
          "text": [
            "a2b1c5a3\n"
          ]
        }
      ]
    },
    {
      "cell_type": "code",
      "source": [
        "input_string = \"yyyyaaaassshhhh ssshhhhaaakkkddddwwwiiipeee\"\n",
        "compressed_string = compress_string(input_string)\n",
        "print(compressed_string)"
      ],
      "metadata": {
        "colab": {
          "base_uri": "https://localhost:8080/"
        },
        "id": "3PP_RfyX1h7Y",
        "outputId": "3d74172d-bebb-44b9-b7d5-b264991a85e5"
      },
      "execution_count": null,
      "outputs": [
        {
          "output_type": "stream",
          "name": "stdout",
          "text": [
            "y4a4s3h4 1s3h4a3k3d4w3i3p1e3\n"
          ]
        }
      ]
    },
    {
      "cell_type": "markdown",
      "source": [
        "Q7  Write a code to determine if a string has all unique characters ?"
      ],
      "metadata": {
        "id": "wpBXe9cZ18ik"
      }
    },
    {
      "cell_type": "code",
      "source": [
        "def has_unique_characters(s):\n",
        "    char_set = set()\n",
        "\n",
        "    for char in s:\n",
        "        if char in char_set:\n",
        "            return False\n",
        "        char_set.add(char)\n",
        "\n",
        "    return True"
      ],
      "metadata": {
        "id": "3qV7Wwbj2AOM"
      },
      "execution_count": null,
      "outputs": []
    },
    {
      "cell_type": "code",
      "source": [
        "input_string = \"abcdefg\"\n",
        "print(has_unique_characters(input_string))"
      ],
      "metadata": {
        "colab": {
          "base_uri": "https://localhost:8080/"
        },
        "id": "bVuCttWC2Nz0",
        "outputId": "21c625ba-c2f8-4956-fa4a-f81833c686fe"
      },
      "execution_count": null,
      "outputs": [
        {
          "output_type": "stream",
          "name": "stdout",
          "text": [
            "True\n"
          ]
        }
      ]
    },
    {
      "cell_type": "code",
      "source": [
        "input_string = \"yash shakdwipee\"\n",
        "print(has_unique_characters(input_string))"
      ],
      "metadata": {
        "colab": {
          "base_uri": "https://localhost:8080/"
        },
        "id": "b9FC8pG12RGU",
        "outputId": "4546c86a-4ae1-4b13-bf0f-1c8997eda895"
      },
      "execution_count": null,
      "outputs": [
        {
          "output_type": "stream",
          "name": "stdout",
          "text": [
            "False\n"
          ]
        }
      ]
    },
    {
      "cell_type": "markdown",
      "source": [
        "Q8 Write a code to convert a given string to uppercase or lowercase ?"
      ],
      "metadata": {
        "id": "a470Azur2dIF"
      }
    },
    {
      "cell_type": "code",
      "source": [
        "input_string = \"Hello, ajay sir!\"\n",
        "uppercase_string = input_string.upper()\n",
        "print(uppercase_string)"
      ],
      "metadata": {
        "colab": {
          "base_uri": "https://localhost:8080/"
        },
        "id": "eDiNOXkk2kpk",
        "outputId": "d6e62a91-7541-4b82-d09a-5b5bbfa7bf08"
      },
      "execution_count": null,
      "outputs": [
        {
          "output_type": "stream",
          "name": "stdout",
          "text": [
            "HELLO, AJAY SIR!\n"
          ]
        }
      ]
    },
    {
      "cell_type": "code",
      "source": [
        "input_string = \"Hello, AJAY SIR!\"\n",
        "lowercase_string = input_string.lower()\n",
        "print(lowercase_string)"
      ],
      "metadata": {
        "colab": {
          "base_uri": "https://localhost:8080/"
        },
        "id": "83xk4G4z21aZ",
        "outputId": "989aae10-7685-48fb-8837-daca7e4872df"
      },
      "execution_count": null,
      "outputs": [
        {
          "output_type": "stream",
          "name": "stdout",
          "text": [
            "hello, ajay sir!\n"
          ]
        }
      ]
    },
    {
      "cell_type": "markdown",
      "source": [
        "Q9  Write a code to count the number of words in a string ?"
      ],
      "metadata": {
        "id": "qWfk-kHW3IEB"
      }
    },
    {
      "cell_type": "code",
      "source": [
        "def count_words(string):\n",
        "    words = string.split()\n",
        "    return len(words)"
      ],
      "metadata": {
        "id": "oB2ghzDj3M0n"
      },
      "execution_count": null,
      "outputs": []
    },
    {
      "cell_type": "code",
      "source": [
        "input_string = \"Hello pwSKILLS you guys are the best.\"\n",
        "word_count = count_words(input_string)\n",
        "print(f\"The number of words in the string is: {word_count}\")"
      ],
      "metadata": {
        "colab": {
          "base_uri": "https://localhost:8080/"
        },
        "id": "xNCKQCfd3qCN",
        "outputId": "d5037ba5-9186-4e16-8f18-8cf6950ea464"
      },
      "execution_count": null,
      "outputs": [
        {
          "output_type": "stream",
          "name": "stdout",
          "text": [
            "The number of words in the string is: 7\n"
          ]
        }
      ]
    },
    {
      "cell_type": "code",
      "source": [
        "input_string = \"you guys made learning so simpLe ajay sir the GOAT \"\n",
        "word_count = count_words(input_string)\n",
        "print(f\"The number of words in the string is: {word_count}\")"
      ],
      "metadata": {
        "colab": {
          "base_uri": "https://localhost:8080/"
        },
        "id": "kE66I1L633qk",
        "outputId": "335603e4-8aab-4ad4-da97-b79907d39a27"
      },
      "execution_count": null,
      "outputs": [
        {
          "output_type": "stream",
          "name": "stdout",
          "text": [
            "The number of words in the string is: 10\n"
          ]
        }
      ]
    },
    {
      "cell_type": "markdown",
      "source": [
        "Q10  Write a code to concatenate two strings without using the + operator"
      ],
      "metadata": {
        "id": "sceZR6iM5bZg"
      }
    },
    {
      "cell_type": "code",
      "source": [
        "#In Python, string concatenation is the process of joining two or more strings into a single string.\n",
        " #This can be achieved using various methods, each suitable for different scenarios.\n",
        " #The + operator is the most straightforward way to concatenate strings. It's used to combine strings directly:\n",
        "\n",
        " #but in this case we are doing the concatenation of two strings without + operator"
      ],
      "metadata": {
        "id": "SywhG42v5xX5"
      },
      "execution_count": null,
      "outputs": []
    },
    {
      "cell_type": "code",
      "source": [
        "#Using the .join() Method\n",
        "#he .join() method is efficient for concatenating multiple strings from an iterable like a list:\n",
        "\n",
        "words = [\"yash\", \"plays\", \"online\", \"grand theft auto\" \" 5\"]\n",
        "sentence = \" \".join(words)\n",
        "print(sentence)"
      ],
      "metadata": {
        "colab": {
          "base_uri": "https://localhost:8080/"
        },
        "id": "iMGAJp8T6Q4d",
        "outputId": "deaa8e61-6f05-4a07-ab99-3b579f23109f"
      },
      "execution_count": null,
      "outputs": [
        {
          "output_type": "stream",
          "name": "stdout",
          "text": [
            "yash plays online grand theft auto 5\n"
          ]
        }
      ]
    },
    {
      "cell_type": "code",
      "source": [
        "#Using f-Strings\n",
        "#F-strings provide a concise and readable way to embed expressions inside string literals:\n",
        "\n",
        "name = \"yash\"\n",
        "age = 23\n",
        "introduction = f\"My name is {name} and I am {age} years old.\"\n",
        "print(introduction)"
      ],
      "metadata": {
        "colab": {
          "base_uri": "https://localhost:8080/"
        },
        "id": "W56afHV-62Mo",
        "outputId": "8d5012f9-92bb-4aea-a803-7c5c86c3670e"
      },
      "execution_count": null,
      "outputs": [
        {
          "output_type": "stream",
          "name": "stdout",
          "text": [
            "My name is yash and I am 23 years old.\n"
          ]
        }
      ]
    },
    {
      "cell_type": "code",
      "source": [
        "#Using the .format() Method\n",
        "#The .format() method provides a versatile way of formatting strings:\n",
        "\n",
        "first_name = \"yash\"\n",
        "last_name = \"shakdwipee\"\n",
        "full_name = \"{} {}\".format(first_name, last_name)\n",
        "print(full_name)"
      ],
      "metadata": {
        "colab": {
          "base_uri": "https://localhost:8080/"
        },
        "id": "4Bd_Mr-D7O34",
        "outputId": "ec973fec-8a9f-4f1a-b233-ddd66fafef08"
      },
      "execution_count": null,
      "outputs": [
        {
          "output_type": "stream",
          "name": "stdout",
          "text": [
            "yash shakdwipee\n"
          ]
        }
      ]
    },
    {
      "cell_type": "markdown",
      "source": [
        "Q11 Write a code to remove all occurrences of a specific element from a list?"
      ],
      "metadata": {
        "id": "Klhb7_4-7y6h"
      }
    },
    {
      "cell_type": "code",
      "source": [
        "def remove_all_occurrences(lst, element):\n",
        "    return [item for item in lst if item != element]\n",
        "\n",
        "# Example usage\n",
        "my_list = [1, 2, 3, 4, 2, 2, 5]\n",
        "element_to_remove = 2\n",
        "new_list = remove_all_occurrences(my_list, element_to_remove)\n",
        "print(\"Original list:\", my_list)\n",
        "print(\"List after removing all occurrences of\", element_to_remove, \":\", new_list)"
      ],
      "metadata": {
        "id": "_GdAOf1s78Lf",
        "colab": {
          "base_uri": "https://localhost:8080/"
        },
        "outputId": "910ae2d6-cc5d-443c-ae43-965ad4b347b4"
      },
      "execution_count": null,
      "outputs": [
        {
          "output_type": "stream",
          "name": "stdout",
          "text": [
            "Original list: [1, 2, 3, 4, 2, 2, 5]\n",
            "List after removing all occurrences of 2 : [1, 3, 4, 5]\n"
          ]
        }
      ]
    },
    {
      "cell_type": "code",
      "source": [
        "def remove_all_occurrences(lst, element):\n",
        "    return [item for item in lst if item != element]\n",
        "\n",
        "yash = [\"cricket\", \"blue\", \"cricket\", \"lucky\", \"cricket\", \"white\", \"mango\"]\n",
        "element_to_remove = \"cricket\"\n",
        "new_list = remove_all_occurrences(yash, element_to_remove)\n",
        "print(\"Original list:\", yash)\n",
        "print(\"List after removing all occurrences of\", element_to_remove, \":\", new_list)"
      ],
      "metadata": {
        "colab": {
          "base_uri": "https://localhost:8080/"
        },
        "id": "NwRSJnHVlBNF",
        "outputId": "2071bf85-a6dd-498f-d9ea-8769fe3e1e4e"
      },
      "execution_count": null,
      "outputs": [
        {
          "output_type": "stream",
          "name": "stdout",
          "text": [
            "Original list: ['cricket', 'blue', 'cricket', 'lucky', 'cricket', 'white', 'mango']\n",
            "List after removing all occurrences of cricket : ['blue', 'lucky', 'white', 'mango']\n"
          ]
        }
      ]
    },
    {
      "cell_type": "markdown",
      "source": [
        "Q12 Implement a code to find the second largest number in a given list of integers ?"
      ],
      "metadata": {
        "id": "zg-ACikCmNwE"
      }
    },
    {
      "cell_type": "code",
      "source": [
        "def find_second_largest(numbers):\n",
        "    first, second = float('-inf'), float('-inf')\n",
        "    for number in numbers:\n",
        "        if number > first:\n",
        "            first, second = number, first\n",
        "        elif first > number > second:\n",
        "            second = number\n",
        "    return second"
      ],
      "metadata": {
        "id": "0wm27ZZ7mRWA"
      },
      "execution_count": null,
      "outputs": []
    },
    {
      "cell_type": "code",
      "source": [
        "numbers = [1, 201, 44, 459, 19]\n",
        "print(\"Second largest number is:\", find_second_largest(numbers))"
      ],
      "metadata": {
        "colab": {
          "base_uri": "https://localhost:8080/"
        },
        "id": "5zsUSWMSmUYz",
        "outputId": "2ba766b1-059c-4032-c773-3537a8abc0fa"
      },
      "execution_count": null,
      "outputs": [
        {
          "output_type": "stream",
          "name": "stdout",
          "text": [
            "Second largest number is: 201\n"
          ]
        }
      ]
    },
    {
      "cell_type": "code",
      "source": [
        "numbers = [1324, 2014, 3244, 21459, 4519]\n",
        "print(\"Second largest number is:\", find_second_largest(numbers))"
      ],
      "metadata": {
        "colab": {
          "base_uri": "https://localhost:8080/"
        },
        "id": "2Gj4aGEDmdlo",
        "outputId": "107a5fff-2e6c-42c7-bba4-e7373b3881e2"
      },
      "execution_count": null,
      "outputs": [
        {
          "output_type": "stream",
          "name": "stdout",
          "text": [
            "Second largest number is: 4519\n"
          ]
        }
      ]
    },
    {
      "cell_type": "markdown",
      "source": [
        "Q13 Create a code to count the occurrences of each element in a list and return a dictionary with elements as\n",
        "keys and their counts as values?"
      ],
      "metadata": {
        "id": "grZHth6Um0Gq"
      }
    },
    {
      "cell_type": "code",
      "source": [
        "def count_occurrences(lst):\n",
        "    count_dict = {}\n",
        "    for element in lst:\n",
        "        if element in count_dict:\n",
        "            count_dict[element] += 1\n",
        "        else:\n",
        "            count_dict[element] = 1\n",
        "    return count_dict"
      ],
      "metadata": {
        "id": "eRIFZUH5m6R7"
      },
      "execution_count": null,
      "outputs": []
    },
    {
      "cell_type": "code",
      "source": [
        "my_list = [1, 2, 3, 1, 2, 1, 3, 4, 5, 4, 2, 2]\n",
        "result = count_occurrences(my_list)\n",
        "print(result)"
      ],
      "metadata": {
        "colab": {
          "base_uri": "https://localhost:8080/"
        },
        "id": "GGwWTHVSm8Zf",
        "outputId": "4a061d52-e190-4b03-c245-22a644c68725"
      },
      "execution_count": null,
      "outputs": [
        {
          "output_type": "stream",
          "name": "stdout",
          "text": [
            "{1: 3, 2: 4, 3: 2, 4: 2, 5: 1}\n"
          ]
        }
      ]
    },
    {
      "cell_type": "code",
      "source": [
        "yash3 = [3, 2, 3, 3, 2, 3, 3, 4, 2, 4, 2, 2]\n",
        "result = count_occurrences(yash3)\n",
        "print(result)"
      ],
      "metadata": {
        "colab": {
          "base_uri": "https://localhost:8080/"
        },
        "id": "feVQ75OSnBAZ",
        "outputId": "b5530019-b98e-49b0-b0eb-8428948e7b8d"
      },
      "execution_count": null,
      "outputs": [
        {
          "output_type": "stream",
          "name": "stdout",
          "text": [
            "{3: 5, 2: 5, 4: 2}\n"
          ]
        }
      ]
    },
    {
      "cell_type": "markdown",
      "source": [
        "Q14 Write a code to reverse a list in-place without using any built-in reverse function ?"
      ],
      "metadata": {
        "id": "5cREoDLLnPvs"
      }
    },
    {
      "cell_type": "code",
      "source": [
        "def reverse_list(lst):\n",
        "    left, right = 0, len(lst) - 1\n",
        "    while left < right:\n",
        "        # Swap the elements at the left and right indices\n",
        "        lst[left], lst[right] = lst[right], lst[left]\n",
        "        # Move the pointers towards the center\n",
        "        left += 1\n",
        "        right -= 1"
      ],
      "metadata": {
        "id": "ZCmMaTYJnSER"
      },
      "execution_count": null,
      "outputs": []
    },
    {
      "cell_type": "code",
      "source": [
        "yash = [1, 2, 3, 4, 5]\n",
        "reverse_list(yash)\n",
        "print(\"Reversed list:\", yash)"
      ],
      "metadata": {
        "colab": {
          "base_uri": "https://localhost:8080/"
        },
        "id": "TDAk_lPNnlrx",
        "outputId": "8f4b6b5e-9ee2-413a-d240-376f1e4b6102"
      },
      "execution_count": null,
      "outputs": [
        {
          "output_type": "stream",
          "name": "stdout",
          "text": [
            "Reversed list: [5, 4, 3, 2, 1]\n"
          ]
        }
      ]
    },
    {
      "cell_type": "code",
      "source": [
        "yash = [\"pwskills\", \"assignment\", \"python\", \"data structure\", \"advance\"]\n",
        "reverse_list(yash)\n",
        "print(\"Reversed list:\", yash)"
      ],
      "metadata": {
        "colab": {
          "base_uri": "https://localhost:8080/"
        },
        "id": "rFepDU5dntky",
        "outputId": "d55e658a-560f-4a30-a451-aa42b914bfa8"
      },
      "execution_count": null,
      "outputs": [
        {
          "output_type": "stream",
          "name": "stdout",
          "text": [
            "Reversed list: ['advance', 'data structure', 'python', 'assignment', 'pwskills']\n"
          ]
        }
      ]
    },
    {
      "cell_type": "markdown",
      "source": [
        "Q15  Implement a code to find and remove duplicates from a list while preserving the original order of\n",
        "elements?"
      ],
      "metadata": {
        "id": "DH_UkmS2oF0q"
      }
    },
    {
      "cell_type": "code",
      "source": [
        "def remove_duplicates(lst):\n",
        "    seen = set()\n",
        "    unique_list = []\n",
        "    for item in lst:\n",
        "        if item not in seen:\n",
        "            unique_list.append(item)\n",
        "            seen.add(item)\n",
        "    return unique_list"
      ],
      "metadata": {
        "id": "hEcO8tLQoKBB"
      },
      "execution_count": null,
      "outputs": []
    },
    {
      "cell_type": "code",
      "source": [
        "lucky = [1, 2, 3, 1, 2, 1, 3, 4, 5, 4, 2, 2]\n",
        "result = remove_duplicates(lucky)\n",
        "print(\"List after removing duplicates:\", result)"
      ],
      "metadata": {
        "colab": {
          "base_uri": "https://localhost:8080/"
        },
        "id": "I2VjaXOYoSNc",
        "outputId": "0f0d9db7-3543-43d3-ab18-8aaff191d409"
      },
      "execution_count": null,
      "outputs": [
        {
          "output_type": "stream",
          "name": "stdout",
          "text": [
            "List after removing duplicates: [1, 2, 3, 4, 5]\n"
          ]
        }
      ]
    },
    {
      "cell_type": "code",
      "source": [
        "yash = [\"black\", \"mango\", \"raka\", \"black\", \"mango\", \"black\", \"raka\", \"white\", \"game\", \"game\", \"mango\", \"mango\"]\n",
        "result = remove_duplicates(yash)\n",
        "print(\"List after removing duplicates:\", result)"
      ],
      "metadata": {
        "colab": {
          "base_uri": "https://localhost:8080/"
        },
        "id": "ZvbcGCS_oZ97",
        "outputId": "80b5c76e-28a8-4893-cd05-e6f260692744"
      },
      "execution_count": null,
      "outputs": [
        {
          "output_type": "stream",
          "name": "stdout",
          "text": [
            "List after removing duplicates: ['black', 'mango', 'raka', 'white', 'game']\n"
          ]
        }
      ]
    },
    {
      "cell_type": "markdown",
      "source": [
        "Q16  Create a code to check if a given list is sorted (either in ascending or descending order) or not ?"
      ],
      "metadata": {
        "id": "wk9bcSWoo2no"
      }
    },
    {
      "cell_type": "code",
      "source": [
        "def is_sorted(lst):\n",
        "    ascending = all(lst[i] <= lst[i + 1] for i in range(len(lst) - 1))\n",
        "    descending = all(lst[i] >= lst[i + 1] for i in range(len(lst) - 1))\n",
        "    return ascending or descending"
      ],
      "metadata": {
        "id": "KnZAX1Vuo6C3"
      },
      "execution_count": null,
      "outputs": []
    },
    {
      "cell_type": "code",
      "source": [
        "my_list1 = [1, 2, 3, 4, 5]\n",
        "my_list2 = [5, 4, 3, 2, 1]\n",
        "my_list3 = [1, 3, 2, 4, 5]\n",
        "\n",
        "print(\"List 1 is sorted:\", is_sorted(my_list1))\n",
        "print(\"List 2 is sorted:\", is_sorted(my_list2))\n",
        "print(\"List 3 is sorted:\", is_sorted(my_list3))"
      ],
      "metadata": {
        "colab": {
          "base_uri": "https://localhost:8080/"
        },
        "id": "CPdbmqVNpGex",
        "outputId": "d9f8e59d-cefb-450d-f5f4-3da8f8540796"
      },
      "execution_count": null,
      "outputs": [
        {
          "output_type": "stream",
          "name": "stdout",
          "text": [
            "List 1 is sorted: True\n",
            "List 2 is sorted: True\n",
            "List 3 is sorted: False\n"
          ]
        }
      ]
    },
    {
      "cell_type": "code",
      "source": [
        "raka1 = [1.1, 2.2, 3.4, 4.5, 5.6]\n",
        "raka2 = [5.5, 4.9, 3.8, 2.1, 1.9]\n",
        "raka3 = [1.4, 3.7, 2.9, 4.6, 5.8]\n",
        "\n",
        "print(\"List 1 is sorted:\", is_sorted(raka1))\n",
        "print(\"List 2 is sorted:\", is_sorted(raka2))\n",
        "print(\"List 3 is sorted:\", is_sorted(raka3))"
      ],
      "metadata": {
        "colab": {
          "base_uri": "https://localhost:8080/"
        },
        "id": "5ILrop92pLt1",
        "outputId": "6367ee10-b4a3-47cd-be6a-bc6583ac9e65"
      },
      "execution_count": null,
      "outputs": [
        {
          "output_type": "stream",
          "name": "stdout",
          "text": [
            "List 1 is sorted: True\n",
            "List 2 is sorted: True\n",
            "List 3 is sorted: False\n"
          ]
        }
      ]
    },
    {
      "cell_type": "markdown",
      "source": [
        "Q17  Write a code to merge two sorted lists into a single sorted list ?"
      ],
      "metadata": {
        "id": "XeEsABTCpqxr"
      }
    },
    {
      "cell_type": "code",
      "source": [
        "def merge_sorted_lists(list1, list2):\n",
        "    merged_list = []\n",
        "    i, j = 0, 0\n",
        "\n",
        "    # Traverse both lists and append smaller element to merged_list\n",
        "    while i < len(list1) and j < len(list2):\n",
        "        if list1[i] < list2[j]:\n",
        "            merged_list.append(list1[i])\n",
        "            i += 1\n",
        "        else:\n",
        "            merged_list.append(list2[j])\n",
        "            j += 1\n",
        "\n",
        "    # Append remaining elements of list1, if any\n",
        "    while i < len(list1):\n",
        "        merged_list.append(list1[i])\n",
        "        i += 1\n",
        "\n",
        "    # Append remaining elements of list2, if any\n",
        "    while j < len(list2):\n",
        "        merged_list.append(list2[j])\n",
        "        j += 1\n",
        "\n",
        "    return merged_list"
      ],
      "metadata": {
        "id": "p01U9BQApuAr"
      },
      "execution_count": null,
      "outputs": []
    },
    {
      "cell_type": "code",
      "source": [
        "yash = [1, 3, 5, 7]\n",
        "raka = [2, 4, 6, 8]\n",
        "result = merge_sorted_lists(yash, raka)\n",
        "print(\"Merged sorted list:\", result)"
      ],
      "metadata": {
        "colab": {
          "base_uri": "https://localhost:8080/"
        },
        "id": "fI2F210Gp7xP",
        "outputId": "7a016c42-6b0e-49c4-888b-ca93ed99be6f"
      },
      "execution_count": null,
      "outputs": [
        {
          "output_type": "stream",
          "name": "stdout",
          "text": [
            "Merged sorted list: [1, 2, 3, 4, 5, 6, 7, 8]\n"
          ]
        }
      ]
    },
    {
      "cell_type": "code",
      "source": [
        "lucky = [1.1, 3.3, 5.5, 7.7]\n",
        "babal = [2.2, 4.4, 6.6, 8.8]\n",
        "result = merge_sorted_lists(lucky, babal)\n",
        "print(\"Merged sorted list:\", result)"
      ],
      "metadata": {
        "colab": {
          "base_uri": "https://localhost:8080/"
        },
        "id": "c_Dr1YXgGp7u",
        "outputId": "6b69777c-4b30-401b-c27e-0483a30ce7e0"
      },
      "execution_count": null,
      "outputs": [
        {
          "output_type": "stream",
          "name": "stdout",
          "text": [
            "Merged sorted list: [1.1, 2.2, 3.3, 4.4, 5.5, 6.6, 7.7, 8.8]\n"
          ]
        }
      ]
    },
    {
      "cell_type": "markdown",
      "source": [
        "Q18  Implement a code to find the intersection of two given lists ?"
      ],
      "metadata": {
        "id": "CphwqKyxqS3O"
      }
    },
    {
      "cell_type": "code",
      "source": [
        "def find_intersection(list1, list2):\n",
        "    # Convert lists to sets and find the intersection\n",
        "    intersection = set(list1) & set(list2)\n",
        "    # Convert the set back to a list\n",
        "    return list(intersection)"
      ],
      "metadata": {
        "id": "8iNQHcYvqUql"
      },
      "execution_count": null,
      "outputs": []
    },
    {
      "cell_type": "code",
      "source": [
        "list1 = [1, 2, 3, 4, 5]\n",
        "list2 = [3, 4, 5, 6, 7]\n",
        "result = find_intersection(list1, list2)\n",
        "print(\"Intersection of the two lists:\", result)"
      ],
      "metadata": {
        "id": "oUSBwijGqcAB",
        "outputId": "a5c26989-464e-4e16-eb30-e211240397f2",
        "colab": {
          "base_uri": "https://localhost:8080/"
        }
      },
      "execution_count": null,
      "outputs": [
        {
          "output_type": "stream",
          "name": "stdout",
          "text": [
            "Intersection of the two lists: [3, 4, 5]\n"
          ]
        }
      ]
    },
    {
      "cell_type": "code",
      "source": [
        "raka = [ 3, 4, 5, 6, 7]\n",
        "yash = [3, 4, 5, 6, 7]\n",
        "result = find_intersection(raka, yash)\n",
        "print(\"Intersection of the two lists:\", result)"
      ],
      "metadata": {
        "colab": {
          "base_uri": "https://localhost:8080/"
        },
        "id": "WNkwhgYwHM1k",
        "outputId": "aa5f66fb-44f9-426e-837b-7b4488280e64"
      },
      "execution_count": null,
      "outputs": [
        {
          "output_type": "stream",
          "name": "stdout",
          "text": [
            "Intersection of the two lists: [3, 4, 5, 6, 7]\n"
          ]
        }
      ]
    },
    {
      "cell_type": "markdown",
      "source": [
        "Q19  Create a code to find the union of two lists without duplicates ?"
      ],
      "metadata": {
        "id": "MaX8t2P0ZGfU"
      }
    },
    {
      "cell_type": "code",
      "source": [
        "def union_without_duplicates(list1, list2):\n",
        "    # Convert both lists to sets and take the union\n",
        "    result_set = set(list1).union(set(list2))\n",
        "    # Convert the set back to a list\n",
        "    result_list = list(result_set)\n",
        "    return result_list"
      ],
      "metadata": {
        "id": "avD4VoY3ZK4G"
      },
      "execution_count": null,
      "outputs": []
    },
    {
      "cell_type": "code",
      "source": [
        "list1 = [1, 2, 3, 4, 5]\n",
        "list2 = [4, 5, 6, 7, 8]\n",
        "union_list = union_without_duplicates(list1, list2)\n",
        "print(\"Union of the two lists without duplicates:\", union_list)"
      ],
      "metadata": {
        "colab": {
          "base_uri": "https://localhost:8080/"
        },
        "id": "uPxdhjqhZUeX",
        "outputId": "240a5f2c-5a6c-4439-f7e0-6952baacca66"
      },
      "execution_count": null,
      "outputs": [
        {
          "output_type": "stream",
          "name": "stdout",
          "text": [
            "Union of the two lists without duplicates: [1, 2, 3, 4, 5, 6, 7, 8]\n"
          ]
        }
      ]
    },
    {
      "cell_type": "code",
      "source": [
        "grocery_yash = [\"potato\", \"milk\", \"chips\", \"oranges\", \"bread\"]\n",
        "grocery_lucky = [\"oranges\", \"bread\", \"coca cola\", \"icecream\", \"red chili souce\"]\n",
        "union_list = union_without_duplicates(grocery_yash, grocery_lucky)\n",
        "print(\"Union of the two lists without duplicates:\", union_list)"
      ],
      "metadata": {
        "colab": {
          "base_uri": "https://localhost:8080/"
        },
        "id": "biVGA8OgHiom",
        "outputId": "d3898831-868c-4ca2-c860-5d5b78a55304"
      },
      "execution_count": null,
      "outputs": [
        {
          "output_type": "stream",
          "name": "stdout",
          "text": [
            "Union of the two lists without duplicates: ['bread', 'oranges', 'potato', 'icecream', 'red chili souce', 'milk', 'chips', 'coca cola']\n"
          ]
        }
      ]
    },
    {
      "cell_type": "markdown",
      "source": [
        "Q20  Write a code to shuffle a given list randomly without using any built-in shuffle functions ?"
      ],
      "metadata": {
        "id": "R1q94oFIZiwv"
      }
    },
    {
      "cell_type": "code",
      "source": [
        "import random\n",
        "\n",
        "my_list = [1, 2, 3, 4, 5]\n",
        "\n",
        "shuffled_list = sorted(my_list, key=lambda x: random.random())\n",
        "\n",
        "print(\"Original list:\", my_list)\n",
        "print(\"Shuffled list:\", shuffled_list)"
      ],
      "metadata": {
        "colab": {
          "base_uri": "https://localhost:8080/"
        },
        "id": "Zz5KW4_nb8qi",
        "outputId": "32154ca0-8a6f-4b80-8258-c94d9b3127b3"
      },
      "execution_count": null,
      "outputs": [
        {
          "output_type": "stream",
          "name": "stdout",
          "text": [
            "Original list: [1, 2, 3, 4, 5]\n",
            "Shuffled list: [4, 1, 5, 3, 2]\n"
          ]
        }
      ]
    },
    {
      "cell_type": "code",
      "source": [
        "import random\n",
        "\n",
        "yash_grocery = [\"bread\", \"milk\", \"oranges\", \"souce\", \"potato\"]\n",
        "\n",
        "shuffled_list = sorted(yash_grocery, key=lambda x: random.random())\n",
        "\n",
        "print(\"Original list:\", yash_grocery)\n",
        "print(\"Shuffled list:\", shuffled_list)"
      ],
      "metadata": {
        "colab": {
          "base_uri": "https://localhost:8080/"
        },
        "id": "PcolFeG0Ii_y",
        "outputId": "b355ebf5-0e10-40dd-a568-9ef657fdcbfb"
      },
      "execution_count": null,
      "outputs": [
        {
          "output_type": "stream",
          "name": "stdout",
          "text": [
            "Original list: ['bread', 'milk', 'oranges', 'souce', 'potato']\n",
            "Shuffled list: ['bread', 'milk', 'potato', 'oranges', 'souce']\n"
          ]
        }
      ]
    },
    {
      "cell_type": "markdown",
      "source": [
        "Q21 Write a code that takes two tuples as input and returns a new tuple containing elements that are\n",
        "common to both input tuples?\n",
        "\n"
      ],
      "metadata": {
        "id": "HUrcGD01cGu8"
      }
    },
    {
      "cell_type": "code",
      "source": [
        "def common_elements(tuple1, tuple2):\n",
        "    # Convert tuples to sets to find common elements\n",
        "    set1 = set(tuple1)\n",
        "    set2 = set(tuple2)\n",
        "\n",
        "    # Find common elements using set intersection\n",
        "    common_set = set1 & set2\n",
        "\n",
        "    # Convert the set back to a tuple\n",
        "    return tuple(common_set)\n",
        "\n",
        "\n",
        "tuple1 = (1, 2, 3, 4, 5)\n",
        "tuple2 = (4, 5, 6, 7, 8)\n",
        "result = common_elements(tuple1, tuple2)\n",
        "print(result)"
      ],
      "metadata": {
        "id": "3Acax8xxcIJP",
        "colab": {
          "base_uri": "https://localhost:8080/"
        },
        "outputId": "50d28141-ac96-4e9c-ee27-3218a563880e"
      },
      "execution_count": null,
      "outputs": [
        {
          "output_type": "stream",
          "name": "stdout",
          "text": [
            "(4, 5)\n"
          ]
        }
      ]
    },
    {
      "cell_type": "code",
      "source": [
        "def common_elements(tuple1, tuple2):\n",
        "    # Convert tuples to sets to find common elements\n",
        "    set1 = set(tuple1)\n",
        "    set2 = set(tuple2)\n",
        "\n",
        "    # Find common elements using set intersection\n",
        "    common_set = set1 & set2\n",
        "\n",
        "    # Convert the set back to a tuple\n",
        "    return tuple(common_set)\n",
        "\n",
        "\n",
        "playlist_1 = (\"jai ho\", \"sanam re\", \"humsafar\", \"dil shairana\", \"dangal dangal\")\n",
        "playlist_2 = (\"kal li baat purani\", \"jai ho\", \"humsafar\", \"yuhi kat jayega safar\", \"ye dil h ki maanta nhi\")\n",
        "result = common_elements(playlist_1, playlist_2)\n",
        "print(result)"
      ],
      "metadata": {
        "colab": {
          "base_uri": "https://localhost:8080/"
        },
        "id": "QnTCjrXoJITN",
        "outputId": "6bf023d4-13e3-4765-b71c-9db3f9f64992"
      },
      "execution_count": null,
      "outputs": [
        {
          "output_type": "stream",
          "name": "stdout",
          "text": [
            "('humsafar', 'jai ho')\n"
          ]
        }
      ]
    },
    {
      "cell_type": "markdown",
      "source": [
        "Q22  Create a code that prompts the user to enter two sets of integers separated by commas. Then, print the\n",
        "intersection of these two sets ?"
      ],
      "metadata": {
        "id": "xGJai-F-AyrW"
      }
    },
    {
      "cell_type": "code",
      "source": [
        "str1 = input(\"Enter a first set of integers seprated by commas: \")\n",
        "set1 = set(map(int,str1.split(',')))\n",
        "str2 = input(\"Enter a second set of integers seprated by commas: \")\n",
        "set2 = set(map(int,str2.split(',')))\n",
        "intersection = set1.intersection(set2)\n",
        "print(intersection)"
      ],
      "metadata": {
        "colab": {
          "base_uri": "https://localhost:8080/"
        },
        "id": "588x0N5HDRHm",
        "outputId": "b96498a3-1e7c-41e0-cc3c-2d6731a59df3"
      },
      "execution_count": null,
      "outputs": [
        {
          "output_type": "stream",
          "name": "stdout",
          "text": [
            "Enter a first set of integers seprated by commas: 1, 2, 3\n",
            "Enter a second set of integers seprated by commas: 2, 3, 4\n",
            "{2, 3}\n"
          ]
        }
      ]
    },
    {
      "cell_type": "code",
      "source": [
        "str1 = input(\"Enter a first set of integers seprated by commas: \")\n",
        "set1 = set(map(int,str1.split(',')))\n",
        "str2 = input(\"Enter a second set of integers seprated by commas: \")\n",
        "set2 = set(map(int,str2.split(',')))\n",
        "intersection = set1.intersection(set2)\n",
        "print(intersection)"
      ],
      "metadata": {
        "colab": {
          "base_uri": "https://localhost:8080/"
        },
        "id": "NujkzSK6KDU8",
        "outputId": "e86d249b-13d1-4f90-a76d-2cbba0c143d0"
      },
      "execution_count": null,
      "outputs": [
        {
          "output_type": "stream",
          "name": "stdout",
          "text": [
            "Enter a first set of integers seprated by commas: 4,8,3\n",
            "Enter a second set of integers seprated by commas: 9,4,8\n",
            "{8, 4}\n"
          ]
        }
      ]
    },
    {
      "cell_type": "markdown",
      "source": [
        "Q23  Write a code to concatenate two tuples. The function should take two tuples as input and return a new\n",
        "tuple containing elements from both input tuples?"
      ],
      "metadata": {
        "id": "3W9UC1ynDmnO"
      }
    },
    {
      "cell_type": "code",
      "source": [
        "def concatenate_tuples(tuple1, tuple2):\n",
        "    return tuple1 + tuple2"
      ],
      "metadata": {
        "id": "TTG29yo0Dq45"
      },
      "execution_count": null,
      "outputs": []
    },
    {
      "cell_type": "code",
      "source": [
        "tuple1 = (1, 2, 3)\n",
        "tuple2 = (4, 5, 6)\n",
        "result = concatenate_tuples(tuple1, tuple2)\n",
        "print(result)"
      ],
      "metadata": {
        "colab": {
          "base_uri": "https://localhost:8080/"
        },
        "id": "0Fkqn77lDyMq",
        "outputId": "6f1d904d-c1ef-469f-b11f-86b2822f3c07"
      },
      "execution_count": null,
      "outputs": [
        {
          "output_type": "stream",
          "name": "stdout",
          "text": [
            "(1, 2, 3, 4, 5, 6)\n"
          ]
        }
      ]
    },
    {
      "cell_type": "code",
      "source": [
        "movies_1 = (\"son of sardar\", \"chennai express\", \"himmatwala\")\n",
        "movies_2 = (\"khatarnak khiladi 2\", \"welcome\", \"golmal\")\n",
        "result = concatenate_tuples(movies_1, movies_2)\n",
        "print(result)"
      ],
      "metadata": {
        "colab": {
          "base_uri": "https://localhost:8080/"
        },
        "id": "wnZYo_3OKTNc",
        "outputId": "6c876368-3071-4665-d51a-e64554fb9055"
      },
      "execution_count": null,
      "outputs": [
        {
          "output_type": "stream",
          "name": "stdout",
          "text": [
            "('son of sardar', 'chennai express', 'himmatwala', 'khatarnak khiladi 2', 'welcome', 'golmal')\n"
          ]
        }
      ]
    },
    {
      "cell_type": "markdown",
      "source": [
        "Q24 Develop a code that prompts the user to input two sets of strings. Then, print the elements that are\n",
        "present in the first set but not in the second set ?"
      ],
      "metadata": {
        "id": "LxmZXi8qEGmz"
      }
    },
    {
      "cell_type": "code",
      "source": [
        "def get_set(prompt):\n",
        "    return set(input(prompt).split())\n",
        "\n",
        "# Get the first and second sets from the user\n",
        "set1 = get_set(\"Enter the elements of the first set (separated by spaces): \")\n",
        "set2 = get_set(\"Enter the elements of the second set (separated by spaces): \")\n",
        "\n",
        "# Find the difference between the two sets\n",
        "difference = set1 - set2\n",
        "\n",
        "# Print the result\n",
        "print(\"Elements present in the first set but not in the second set:\")\n",
        "for element in difference:\n",
        "    print(element)"
      ],
      "metadata": {
        "colab": {
          "base_uri": "https://localhost:8080/"
        },
        "id": "qGxkXe3JKyou",
        "outputId": "c3d255bc-4557-4fe9-b011-32904aee856d"
      },
      "execution_count": null,
      "outputs": [
        {
          "output_type": "stream",
          "name": "stdout",
          "text": [
            "Enter the elements of the first set (separated by spaces): \"yash\",  \"lucky\", \"naresh\"\n",
            "Enter the elements of the second set (separated by spaces): \"ritesh\", \"harsh\", \"devraj\"\n",
            "Elements present in the first set but not in the second set:\n",
            "\"yash\",\n",
            "\"naresh\"\n",
            "\"lucky\",\n"
          ]
        }
      ]
    },
    {
      "cell_type": "code",
      "source": [
        "def get_set(prompt):\n",
        "    return set(input(prompt).split())\n",
        "\n",
        "# Get the first and second sets from the user\n",
        "set1 = get_set(\"Enter the elements of the first set (separated by spaces): \")\n",
        "set2 = get_set(\"Enter the elements of the second set (separated by spaces): \")\n",
        "\n",
        "# Find the difference between the two sets\n",
        "difference = set1 - set2\n",
        "\n",
        "# Print the result\n",
        "print(\"Elements present in the first set but not in the second set:\")\n",
        "for element in difference:\n",
        "    print(element)"
      ],
      "metadata": {
        "colab": {
          "base_uri": "https://localhost:8080/"
        },
        "id": "lQTHEOvcL3Tc",
        "outputId": "bf2a076d-6eb6-495c-cc56-5d67d776fe69"
      },
      "execution_count": null,
      "outputs": [
        {
          "output_type": "stream",
          "name": "stdout",
          "text": [
            "Enter the elements of the first set (separated by spaces): tea sandwich bread\n",
            "Enter the elements of the second set (separated by spaces): choclate chips coldrink\n",
            "Elements present in the first set but not in the second set:\n",
            "bread\n",
            "tea\n",
            "sandwich\n"
          ]
        }
      ]
    },
    {
      "cell_type": "markdown",
      "source": [
        "Q25  Create a code that takes a tuple and two integers as input. The function should return a new tuple\n",
        "containing elements from the original tuple within the specified range of indices?"
      ],
      "metadata": {
        "id": "IGWo11xpMQ4Y"
      }
    },
    {
      "cell_type": "code",
      "source": [
        "def extract_elements(tup, start, end):\n",
        "    # Ensure the indices are within the bounds of the tuple\n",
        "    if start < 0 or end > len(tup) or start > end:\n",
        "        return \"Invalid indices\"\n",
        "\n",
        "    # Extract the elements within the specified range\n",
        "    return tup[start:end]\n",
        "\n",
        "# Example\n",
        "original_tuple = (1, 2, 3, 4, 5, 6, 7, 8, 9)\n",
        "start_index = int(input(\"Enter the start index: \"))\n",
        "end_index = int(input(\"Enter the end index: \"))\n",
        "\n",
        "result = extract_elements(original_tuple, start_index, end_index)\n",
        "print(\"New tuple:\", result)"
      ],
      "metadata": {
        "colab": {
          "base_uri": "https://localhost:8080/"
        },
        "id": "syVnOb8YNkux",
        "outputId": "19020a7f-fd9d-4c71-ca2b-7d963eb3d6a5"
      },
      "execution_count": 16,
      "outputs": [
        {
          "output_type": "stream",
          "name": "stdout",
          "text": [
            "Enter the start index: 1\n",
            "Enter the end index: 9\n",
            "New tuple: (2, 3, 4, 5, 6, 7, 8, 9)\n"
          ]
        }
      ]
    },
    {
      "cell_type": "code",
      "source": [
        "def extract_elements(tup, start, end):\n",
        "    if start < 0 or end > len(tup) or start > end:\n",
        "        return \"Invalid indices\"\n",
        "\n",
        "    return tup[start:end]\n",
        "\n",
        "\n",
        "original_tuple = (1, 2, 3, 4, 5, 6, 7, 8, 9)\n",
        "start_index = int(input(\"Enter the start index: \"))\n",
        "end_index = int(input(\"Enter the end index: \"))\n",
        "\n",
        "result = extract_elements(original_tuple, start_index, end_index)\n",
        "print(\"New tuple:\", result)"
      ],
      "metadata": {
        "colab": {
          "base_uri": "https://localhost:8080/"
        },
        "id": "5ihDKRBSNp2M",
        "outputId": "0081b41b-baea-44a6-83bf-ca54dfc08495"
      },
      "execution_count": 17,
      "outputs": [
        {
          "output_type": "stream",
          "name": "stdout",
          "text": [
            "Enter the start index: 0\n",
            "Enter the end index: -1\n",
            "New tuple: Invalid indices\n"
          ]
        }
      ]
    },
    {
      "cell_type": "markdown",
      "source": [
        "Q26 Write a code that prompts the user to input two sets of characters. Then, print the union of these two sets?"
      ],
      "metadata": {
        "id": "OnkrP2UuLO0x"
      }
    },
    {
      "cell_type": "code",
      "source": [
        "# Prompt the user to input two sets of characters\n",
        "set1 = set(input(\"Enter the first set of characters : \"))\n",
        "set2 = set(input(\"Enter the second set of characters : \"))\n",
        "\n",
        "# Calculate the union of the two sets\n",
        "union_set = set1.union(set2)\n",
        "\n",
        "# Print the union of the two sets\n",
        "print(\"The union of the two sets is:\", union_set)"
      ],
      "metadata": {
        "colab": {
          "base_uri": "https://localhost:8080/"
        },
        "id": "6Mxfr2aCLjUe",
        "outputId": "c83559b5-4b3c-474f-9fd1-b7b9f99faf4a"
      },
      "execution_count": 18,
      "outputs": [
        {
          "output_type": "stream",
          "name": "stdout",
          "text": [
            "Enter the first set of characters : yash\n",
            "Enter the second set of characters : shakdwipee\n",
            "The union of the two sets is: {'y', 'd', 'w', 'i', 'e', 'h', 'k', 's', 'a', 'p'}\n"
          ]
        }
      ]
    },
    {
      "cell_type": "code",
      "source": [
        "# Prompt the user to input two sets of characters\n",
        "set1 = set(input(\"Enter the first set of characters : \"))\n",
        "set2 = set(input(\"Enter the second set of characters : \"))\n",
        "\n",
        "# Calculate the union of the two sets\n",
        "union_set = set1.union(set2)\n",
        "\n",
        "# Print the union of the two sets\n",
        "print(\"The union of the two sets is:\", union_set)"
      ],
      "metadata": {
        "colab": {
          "base_uri": "https://localhost:8080/"
        },
        "id": "noMan0hjL1Ak",
        "outputId": "62c00309-41c3-4825-acd0-6e26f4553f87"
      },
      "execution_count": 19,
      "outputs": [
        {
          "output_type": "stream",
          "name": "stdout",
          "text": [
            "Enter the first set of characters : abc\n",
            "Enter the second set of characters : def\n",
            "The union of the two sets is: {'f', 'd', 'e', 'c', 'a', 'b'}\n"
          ]
        }
      ]
    },
    {
      "cell_type": "markdown",
      "source": [
        "Q27  Develop a code that takes a tuple of integers as input. The function should return the maximum and\n",
        "minimum values from the tuple using tuple unpacking ?"
      ],
      "metadata": {
        "id": "FF6ZEfGAMhDs"
      }
    },
    {
      "cell_type": "code",
      "source": [
        "def find_max_min(values):\n",
        "    if not values:\n",
        "        return None, None  # Handle empty tuple case\n",
        "\n",
        "    # Initialize max and min with the first element of the tuple\n",
        "    max_val, min_val = values[0], values[0]\n",
        "\n",
        "    for value in values[1:]:\n",
        "        if value > max_val:\n",
        "            max_val = value\n",
        "        if value < min_val:\n",
        "            min_val = value\n",
        "\n",
        "    return max_val, min_val\n",
        "\n",
        "numbers = (3, 1, 4, 1, 5, 9, 2, 6, 5, 3, 5)\n",
        "max_value, min_value = find_max_min(numbers)\n",
        "print(f\"Maximum value: {max_value}, Minimum value: {min_value}\")"
      ],
      "metadata": {
        "colab": {
          "base_uri": "https://localhost:8080/"
        },
        "id": "TUvHZXSBMF4K",
        "outputId": "7d4cf2b5-e7eb-4b06-8d54-f8eeaa8681c2"
      },
      "execution_count": null,
      "outputs": [
        {
          "output_type": "stream",
          "name": "stdout",
          "text": [
            "Maximum value: 9, Minimum value: 1\n"
          ]
        }
      ]
    },
    {
      "cell_type": "code",
      "source": [
        "numbers = (98, 132, 434, 1211, 545, 329, 2543, 5336, 55, 6673, 3215)\n",
        "max_value, min_value = find_max_min(numbers)\n",
        "print(f\"Maximum value: {max_value}, Minimum value: {min_value}\")"
      ],
      "metadata": {
        "colab": {
          "base_uri": "https://localhost:8080/"
        },
        "id": "vwrjNoMhMafy",
        "outputId": "8a28354c-473e-4e88-a321-f4faa1707394"
      },
      "execution_count": null,
      "outputs": [
        {
          "output_type": "stream",
          "name": "stdout",
          "text": [
            "Maximum value: 6673, Minimum value: 55\n"
          ]
        }
      ]
    },
    {
      "cell_type": "markdown",
      "source": [
        "Q28  Create a code that defines two sets of integers. Then, print the union, intersection, and difference of these\n",
        "two sets ?"
      ],
      "metadata": {
        "id": "DvOJbXqEM-wL"
      }
    },
    {
      "cell_type": "code",
      "source": [
        "# Define two sets of integers\n",
        "set1 = {1, 2, 3, 4, 5}\n",
        "set2 = {4, 5, 6, 7, 8}\n",
        "\n",
        "# Calculate union, intersection, and difference\n",
        "union_set = set1 | set2\n",
        "intersection_set = set1 & set2\n",
        "difference_set = set1 - set2\n",
        "\n",
        "# Print the results\n",
        "print(f\"Union: {union_set}\")\n",
        "print(f\"Intersection: {intersection_set}\")\n",
        "print(f\"Difference: {difference_set}\")"
      ],
      "metadata": {
        "colab": {
          "base_uri": "https://localhost:8080/"
        },
        "id": "YGS3ieNQNCOx",
        "outputId": "2d30904b-fd37-4465-f703-5e14aa1891aa"
      },
      "execution_count": null,
      "outputs": [
        {
          "output_type": "stream",
          "name": "stdout",
          "text": [
            "Union: {1, 2, 3, 4, 5, 6, 7, 8}\n",
            "Intersection: {4, 5}\n",
            "Difference: {1, 2, 3}\n"
          ]
        }
      ]
    },
    {
      "cell_type": "code",
      "source": [
        "\n",
        "section_1 = {\"yash\", \"kunal\", \"lucky\", \"devraj\", \"naresh\"}\n",
        "section_2 = {\"naresh\", \"devraj\", \"pooja\", \"richa\", \"harsh\"}\n",
        "\n",
        "union_set = section_1 | section_2\n",
        "intersection_set = section_1 & section_2\n",
        "difference_set = section_1 - section_2\n",
        "\n",
        "print(f\"Union: {union_set}\")\n",
        "print(f\"Intersection: {intersection_set}\")\n",
        "print(f\"Difference: {difference_set}\")"
      ],
      "metadata": {
        "colab": {
          "base_uri": "https://localhost:8080/"
        },
        "id": "ES116bvtNOhg",
        "outputId": "61608fb1-406b-4a1b-f5e2-e4b98f4d6680"
      },
      "execution_count": null,
      "outputs": [
        {
          "output_type": "stream",
          "name": "stdout",
          "text": [
            "Union: {'yash', 'kunal', 'devraj', 'pooja', 'naresh', 'richa', 'harsh', 'lucky'}\n",
            "Intersection: {'devraj', 'naresh'}\n",
            "Difference: {'yash', 'kunal', 'lucky'}\n"
          ]
        }
      ]
    },
    {
      "cell_type": "markdown",
      "source": [
        "Q29  Write a code that takes a tuple and an element as input. The function should return the count of\n",
        "occurrences of the given element in the tuple ?"
      ],
      "metadata": {
        "id": "TsKnm-9TODUN"
      }
    },
    {
      "cell_type": "code",
      "source": [
        "def count_occurrences(tup, element):\n",
        "    return tup.count(element)\n",
        "\n",
        "# Example\n",
        "numbers = (1, 2, 3, 2, 4, 2, 5, 2)\n",
        "element_to_count = 2\n",
        "count = count_occurrences(numbers, element_to_count)\n",
        "print(f\"The element {element_to_count} occurs {count} times in the tuple.\")"
      ],
      "metadata": {
        "colab": {
          "base_uri": "https://localhost:8080/"
        },
        "id": "gHbZ4hiVOFi0",
        "outputId": "63bcb257-e38b-4bbc-a20c-f6da6ed9a616"
      },
      "execution_count": null,
      "outputs": [
        {
          "output_type": "stream",
          "name": "stdout",
          "text": [
            "The element 2 occurs 4 times in the tuple.\n"
          ]
        }
      ]
    },
    {
      "cell_type": "code",
      "source": [
        "students = (\"yash\", \"yash\", \"harsh\", \"lucky\", \"yash\", \"devraj\", \"kunal\", \"yash\")\n",
        "element_to_count = \"yash\"\n",
        "count = count_occurrences(students, element_to_count)\n",
        "print(f\"The element {element_to_count} occurs {count} times in the tuple.\")"
      ],
      "metadata": {
        "colab": {
          "base_uri": "https://localhost:8080/"
        },
        "id": "GlVnr4qWOMSU",
        "outputId": "2184357e-62e8-48d5-8990-d63deab8ee21"
      },
      "execution_count": null,
      "outputs": [
        {
          "output_type": "stream",
          "name": "stdout",
          "text": [
            "The element yash occurs 4 times in the tuple.\n"
          ]
        }
      ]
    },
    {
      "cell_type": "markdown",
      "source": [
        "Q30 Develop a code that prompts the user to input two sets of strings. Then, print the symmetric difference of\n",
        "these two sets?"
      ],
      "metadata": {
        "id": "TJWekTnsOkej"
      }
    },
    {
      "cell_type": "code",
      "source": [
        "def get_set_from_input(prompt):\n",
        "    return set(input(prompt).split())\n",
        "\n",
        "# Prompt the user to input two sets of strings\n",
        "set1 = get_set_from_input(\"Enter the first set of strings (separated by spaces): \")\n",
        "set2 = get_set_from_input(\"Enter the second set of strings (separated by spaces): \")\n",
        "\n",
        "# Calculate the symmetric difference\n",
        "symmetric_difference_set = set1.symmetric_difference(set2)\n",
        "\n",
        "# Print the results\n",
        "print(f\"Symmetric Difference: {symmetric_difference_set}\")"
      ],
      "metadata": {
        "colab": {
          "base_uri": "https://localhost:8080/"
        },
        "id": "CJmKgVRBOnm1",
        "outputId": "c5212f78-46a5-4b37-a1d3-df71a66c6aec"
      },
      "execution_count": null,
      "outputs": [
        {
          "output_type": "stream",
          "name": "stdout",
          "text": [
            "Enter the first set of strings (separated by spaces): yash lucky naresh\n",
            "Enter the second set of strings (separated by spaces): ritesh harsh devraj\n",
            "Symmetric Difference: {'yash', 'ritesh', 'devraj', 'naresh', 'harsh', 'lucky'}\n"
          ]
        }
      ]
    },
    {
      "cell_type": "code",
      "source": [
        "def get_set_from_input(prompt):\n",
        "    return set(input(prompt).split())\n",
        "\n",
        "set1 = get_set_from_input(\"Enter the first set of strings (separated by spaces): \")\n",
        "set2 = get_set_from_input(\"Enter the second set of strings (separated by spaces): \")\n",
        "\n",
        "symmetric_difference_set = set1.symmetric_difference(set2)\n",
        "\n",
        "print(f\"Symmetric Difference: {symmetric_difference_set}\")"
      ],
      "metadata": {
        "colab": {
          "base_uri": "https://localhost:8080/"
        },
        "id": "F3ZLzb3pOv8i",
        "outputId": "59af6fa8-0cc8-4af3-ddaa-39c174fbf34c"
      },
      "execution_count": null,
      "outputs": [
        {
          "output_type": "stream",
          "name": "stdout",
          "text": [
            "Enter the first set of strings (separated by spaces):  ajay ajay ajay\n",
            "Enter the second set of strings (separated by spaces): sir sir sir\n",
            "Symmetric Difference: {'sir', 'ajay'}\n"
          ]
        }
      ]
    },
    {
      "cell_type": "markdown",
      "source": [
        "Q31  Write a code that takes a list of words as input and returns a dictionary where the keys are unique words\n",
        "and the values are the frequencies of those words in the input list?"
      ],
      "metadata": {
        "id": "2TD6S9lVPYKL"
      }
    },
    {
      "cell_type": "code",
      "source": [
        "def word_frequencies(word_list):\n",
        "    frequency_dict = {}\n",
        "    for word in word_list:\n",
        "        if word in frequency_dict:\n",
        "            frequency_dict[word] += 1\n",
        "        else:\n",
        "            frequency_dict[word] = 1\n",
        "    return frequency_dict\n",
        "\n",
        "# Example\n",
        "words = [\"apple\", \"banana\", \"apple\", \"orange\", \"banana\", \"apple\"]\n",
        "frequencies = word_frequencies(words)\n",
        "print(frequencies)"
      ],
      "metadata": {
        "colab": {
          "base_uri": "https://localhost:8080/"
        },
        "id": "CGpUI3awPaNr",
        "outputId": "86a1f63c-a7d9-43e3-a8d7-ec0c07f55c8d"
      },
      "execution_count": null,
      "outputs": [
        {
          "output_type": "stream",
          "name": "stdout",
          "text": [
            "{'apple': 3, 'banana': 2, 'orange': 1}\n"
          ]
        }
      ]
    },
    {
      "cell_type": "code",
      "source": [
        "students = [\"yash\", \"naresh\", \"naresh\", \"yash\", \"kunal\", \"harsh\"]\n",
        "frequencies = word_frequencies(students)\n",
        "print(frequencies)"
      ],
      "metadata": {
        "colab": {
          "base_uri": "https://localhost:8080/"
        },
        "id": "6O6lD8CaPjzC",
        "outputId": "393b61a4-847d-416f-e1db-00a54f372c0a"
      },
      "execution_count": null,
      "outputs": [
        {
          "output_type": "stream",
          "name": "stdout",
          "text": [
            "{'yash': 2, 'naresh': 2, 'kunal': 1, 'harsh': 1}\n"
          ]
        }
      ]
    },
    {
      "cell_type": "markdown",
      "source": [
        "Q32 Write a code that takes two dictionaries as input and merges them into a single dictionary. If there are\n",
        "common keys, the values should be added together?"
      ],
      "metadata": {
        "id": "KNcZf4QDQAXt"
      }
    },
    {
      "cell_type": "code",
      "source": [
        "def merge_dictionaries(dict1, dict2):\n",
        "    merged_dict = dict1.copy()  # Start with a copy of the first dictionary\n",
        "    for key, value in dict2.items():\n",
        "        if key in merged_dict:\n",
        "            merged_dict[key] += value  # Add values if key is common\n",
        "        else:\n",
        "            merged_dict[key] = value  # Add new key-value pair if key is not in merged_dict\n",
        "    return merged_dict\n",
        "\n",
        "# Example\n",
        "dict1 = {'a': 10, 'b': 20, 'c': 30}\n",
        "dict2 = {'b': 5, 'c': 15, 'd': 25}\n",
        "result = merge_dictionaries(dict1, dict2)\n",
        "print(result)"
      ],
      "metadata": {
        "colab": {
          "base_uri": "https://localhost:8080/"
        },
        "id": "__d43Y7fQCmf",
        "outputId": "27906ca4-c2a5-4ebd-bb70-540971032785"
      },
      "execution_count": 4,
      "outputs": [
        {
          "output_type": "stream",
          "name": "stdout",
          "text": [
            "{'a': 10, 'b': 25, 'c': 45, 'd': 25}\n"
          ]
        }
      ]
    },
    {
      "cell_type": "code",
      "source": [
        "yash = {'height': 5.11, 'age': 23, 'palying_sports': \"cricket/football\"}\n",
        "atul = {'height': 5.10, 'age': 28, 'profession': \"doctor\"}\n",
        "result = merge_dictionaries(yash, atul)\n",
        "print(result)"
      ],
      "metadata": {
        "id": "zhcHl7l8QXPP",
        "colab": {
          "base_uri": "https://localhost:8080/"
        },
        "outputId": "2d0efb14-1800-4bca-fdb6-2dce78def58e"
      },
      "execution_count": 5,
      "outputs": [
        {
          "output_type": "stream",
          "name": "stdout",
          "text": [
            "{'height': 10.21, 'age': 51, 'palying_sports': 'cricket/football', 'profession': 'doctor'}\n"
          ]
        }
      ]
    },
    {
      "cell_type": "markdown",
      "source": [
        "Q33  Write a code to access a value in a nested dictionary. The function should take the dictionary and a list of\n",
        "keys as input, and return the corresponding value. If any of the keys do not exist in the dictionary, the\n",
        "function should return None?"
      ],
      "metadata": {
        "id": "DbdkYu4eY1OU"
      }
    },
    {
      "cell_type": "code",
      "source": [
        "def get_nested_value(d, keys):\n",
        "    \"\"\"\n",
        "    Access a value in a nested dictionary.\n",
        "\n",
        "    Parameters:\n",
        "    d (dict): The dictionary to search.\n",
        "    keys (list): A list of keys to traverse the dictionary.\n",
        "\n",
        "    Returns:\n",
        "    The value corresponding to the nested keys, or None if any key is not found.\n",
        "    \"\"\"\n",
        "    for key in keys:\n",
        "        if isinstance(d, dict) and key in d:\n",
        "            d = d[key]\n",
        "        else:\n",
        "            return None\n",
        "    return d\n",
        "\n",
        "# Example:\n",
        "nested_dict = {'a': {'b': {'c': 'd'}}}\n",
        "keys = ['a', 'b', 'c']\n",
        "print(get_nested_value(nested_dict, keys))"
      ],
      "metadata": {
        "colab": {
          "base_uri": "https://localhost:8080/"
        },
        "id": "hHtNDpy6Y4LS",
        "outputId": "32a54dd6-cb0f-4baf-9de7-7967c39d0cd3"
      },
      "execution_count": 7,
      "outputs": [
        {
          "output_type": "stream",
          "name": "stdout",
          "text": [
            "d\n"
          ]
        }
      ]
    },
    {
      "cell_type": "code",
      "source": [
        "keys = ['a', 'b', 'x']\n",
        "print(get_nested_value(nested_dict, keys))"
      ],
      "metadata": {
        "colab": {
          "base_uri": "https://localhost:8080/"
        },
        "id": "2u0CXcckZHmE",
        "outputId": "bdd90cfa-07a5-48ec-ab73-4b56e67a9054"
      },
      "execution_count": 8,
      "outputs": [
        {
          "output_type": "stream",
          "name": "stdout",
          "text": [
            "None\n"
          ]
        }
      ]
    },
    {
      "cell_type": "markdown",
      "source": [
        "Q34 Write a code that takes a dictionary as input and returns a sorted version of it based on the values. You\n",
        "can choose whether to sort in ascending or descending order ?"
      ],
      "metadata": {
        "id": "J4dGNKsjZaK8"
      }
    },
    {
      "cell_type": "code",
      "source": [
        "def sort_dict_by_values(d, ascending=True):\n",
        "    \"\"\"\n",
        "    Sort a dictionary by its values.\n",
        "\n",
        "    Parameters:\n",
        "    d (dict): The dictionary to sort.\n",
        "    ascending (bool): If True, sort in ascending order; if False, sort in descending order.\n",
        "\n",
        "    Returns:\n",
        "    dict: A new dictionary sorted by values.\n",
        "    \"\"\"\n",
        "    sorted_dict = dict(sorted(d.items(), key=lambda item: item[1], reverse=not ascending))\n",
        "    return sorted_dict\n",
        "\n",
        "# Example:\n",
        "sample_dict = {'apple': 5, 'banana': 2, 'orange': 8, 'grape': 1}\n",
        "\n",
        "# Sort in ascending order\n",
        "print(sort_dict_by_values(sample_dict, ascending=True))\n",
        "\n",
        "# Sort in descending order\n",
        "print(sort_dict_by_values(sample_dict, ascending=False))"
      ],
      "metadata": {
        "colab": {
          "base_uri": "https://localhost:8080/"
        },
        "id": "BWmF-1DpZc9j",
        "outputId": "a3bfc3e4-ca74-4ae3-efc2-3d3b13188126"
      },
      "execution_count": 11,
      "outputs": [
        {
          "output_type": "stream",
          "name": "stdout",
          "text": [
            "{'grape': 1, 'banana': 2, 'apple': 5, 'orange': 8}\n",
            "{'orange': 8, 'apple': 5, 'banana': 2, 'grape': 1}\n"
          ]
        }
      ]
    },
    {
      "cell_type": "code",
      "source": [
        "birthdays = {'yash': 3, 'lucky': 1, 'naresh': 25, 'kunal': 29}\n",
        "\n",
        "print(sort_dict_by_values(birthdays, ascending=True))\n",
        "print(sort_dict_by_values(birthdays, ascending=False))"
      ],
      "metadata": {
        "colab": {
          "base_uri": "https://localhost:8080/"
        },
        "id": "B9bTgOMiZrtN",
        "outputId": "f9f821db-293b-44fe-bae3-6cb39bc0554a"
      },
      "execution_count": 12,
      "outputs": [
        {
          "output_type": "stream",
          "name": "stdout",
          "text": [
            "{'lucky': 1, 'yash': 3, 'naresh': 25, 'kunal': 29}\n",
            "{'kunal': 29, 'naresh': 25, 'yash': 3, 'lucky': 1}\n"
          ]
        }
      ]
    },
    {
      "cell_type": "markdown",
      "source": [
        "Q35  Write a code that inverts a dictionary, swapping keys and values. Ensure that the inverted dictionary\n",
        "correctly handles cases where multiple keys have the same value by storing the keys as a list in the\n",
        "inverted dictionary ?"
      ],
      "metadata": {
        "id": "OgD7wgFjaVSx"
      }
    },
    {
      "cell_type": "code",
      "source": [
        "def invert_dict(d):\n",
        "    \"\"\"\n",
        "    Invert a dictionary, swapping keys and values.\n",
        "    If multiple keys have the same value, store the keys as a list.\n",
        "\n",
        "    Parameters:\n",
        "    d (dict): The dictionary to invert.\n",
        "\n",
        "    Returns:\n",
        "    dict: The inverted dictionary.\n",
        "    \"\"\"\n",
        "    inverted_dict = {}\n",
        "    for key, value in d.items():\n",
        "        if value not in inverted_dict:\n",
        "            inverted_dict[value] = [key]\n",
        "        else:\n",
        "            inverted_dict[value].append(key)\n",
        "    return inverted_dict\n",
        "\n",
        "# Example:\n",
        "sample_dict = {'a': 1, 'b': 2, 'c': 1, 'd': 3}\n",
        "print(invert_dict(sample_dict))"
      ],
      "metadata": {
        "colab": {
          "base_uri": "https://localhost:8080/"
        },
        "id": "vh0RVmAxaXj6",
        "outputId": "e8ac8654-abdb-4b5d-eee3-44d2754532f2"
      },
      "execution_count": 14,
      "outputs": [
        {
          "output_type": "stream",
          "name": "stdout",
          "text": [
            "{1: ['a', 'c'], 2: ['b'], 3: ['d']}\n"
          ]
        }
      ]
    },
    {
      "cell_type": "code",
      "source": [
        "rooms = {'lucky': 1, 'yash': 2, 'babal': 1, 'kunal': 3}\n",
        "print(invert_dict(rooms))"
      ],
      "metadata": {
        "colab": {
          "base_uri": "https://localhost:8080/"
        },
        "id": "f6alptyOaikA",
        "outputId": "8b41b619-43ce-4dae-9810-61fb16a9d245"
      },
      "execution_count": 15,
      "outputs": [
        {
          "output_type": "stream",
          "name": "stdout",
          "text": [
            "{1: ['lucky', 'babal'], 2: ['yash'], 3: ['kunal']}\n"
          ]
        }
      ]
    },
    {
      "cell_type": "code",
      "source": [],
      "metadata": {
        "id": "H3P-8SO3a1Vq"
      },
      "execution_count": null,
      "outputs": []
    }
  ]
}